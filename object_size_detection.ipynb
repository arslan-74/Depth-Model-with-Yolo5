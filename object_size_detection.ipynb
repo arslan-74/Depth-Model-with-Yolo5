{
 "cells": [
  {
   "cell_type": "markdown",
   "id": "9e859876-f400-4d41-8db3-7b92b43c61ef",
   "metadata": {},
   "source": [
    "# 1- Install TorchVision"
   ]
  },
  {
   "cell_type": "code",
   "execution_count": 63,
   "id": "cc4d6608-2363-452a-91a5-b5fed185fd8d",
   "metadata": {},
   "outputs": [
    {
     "name": "stdout",
     "output_type": "stream",
     "text": [
      "Requirement already satisfied: torch in c:\\users\\pmls\\anaconda3\\envs\\project\\lib\\site-packages (2.4.0)\n",
      "Requirement already satisfied: torchvision in c:\\users\\pmls\\anaconda3\\envs\\project\\lib\\site-packages (0.19.0)\n",
      "Requirement already satisfied: torchaudio in c:\\users\\pmls\\anaconda3\\envs\\project\\lib\\site-packages (2.4.0)\n",
      "Requirement already satisfied: filelock in c:\\users\\pmls\\anaconda3\\envs\\project\\lib\\site-packages (from torch) (3.15.4)\n",
      "Requirement already satisfied: typing-extensions>=4.8.0 in c:\\users\\pmls\\anaconda3\\envs\\project\\lib\\site-packages (from torch) (4.12.2)\n",
      "Requirement already satisfied: sympy in c:\\users\\pmls\\anaconda3\\envs\\project\\lib\\site-packages (from torch) (1.13.2)\n",
      "Requirement already satisfied: networkx in c:\\users\\pmls\\anaconda3\\envs\\project\\lib\\site-packages (from torch) (3.3)\n",
      "Requirement already satisfied: jinja2 in c:\\users\\pmls\\anaconda3\\envs\\project\\lib\\site-packages (from torch) (3.1.4)\n",
      "Requirement already satisfied: fsspec in c:\\users\\pmls\\anaconda3\\envs\\project\\lib\\site-packages (from torch) (2024.6.1)\n",
      "Requirement already satisfied: setuptools in c:\\users\\pmls\\anaconda3\\envs\\project\\lib\\site-packages (from torch) (72.1.0)\n",
      "Requirement already satisfied: numpy<2 in c:\\users\\pmls\\anaconda3\\envs\\project\\lib\\site-packages (from torchvision) (1.26.4)\n",
      "Requirement already satisfied: pillow!=8.3.*,>=5.3.0 in c:\\users\\pmls\\anaconda3\\envs\\project\\lib\\site-packages (from torchvision) (10.4.0)\n",
      "Requirement already satisfied: MarkupSafe>=2.0 in c:\\users\\pmls\\anaconda3\\envs\\project\\lib\\site-packages (from jinja2->torch) (2.1.5)\n",
      "Requirement already satisfied: mpmath<1.4,>=1.1.0 in c:\\users\\pmls\\anaconda3\\envs\\project\\lib\\site-packages (from sympy->torch) (1.3.0)\n"
     ]
    }
   ],
   "source": [
    "!pip3 install torch torchvision torchaudio"
   ]
  },
  {
   "cell_type": "markdown",
   "id": "7d7e8ff2",
   "metadata": {},
   "source": [
    "# clone github repo for Yolo5"
   ]
  },
  {
   "cell_type": "code",
   "execution_count": 64,
   "id": "475d1eb2-13c5-45df-927e-c4061d81bea3",
   "metadata": {},
   "outputs": [
    {
     "name": "stderr",
     "output_type": "stream",
     "text": [
      "fatal: destination path 'yolov5' already exists and is not an empty directory.\n"
     ]
    }
   ],
   "source": [
    "!git clone https://github.com/ultralytics/yolov5 "
   ]
  },
  {
   "cell_type": "code",
   "execution_count": 65,
   "id": "73fed950-44d9-4d85-a887-76ab154e7fa1",
   "metadata": {},
   "outputs": [
    {
     "name": "stdout",
     "output_type": "stream",
     "text": [
      "Requirement already satisfied: gitpython>=3.1.30 in c:\\users\\pmls\\anaconda3\\envs\\project\\lib\\site-packages (from -r requirements.txt (line 5)) (3.1.43)\n",
      "Requirement already satisfied: matplotlib>=3.3 in c:\\users\\pmls\\anaconda3\\envs\\project\\lib\\site-packages (from -r requirements.txt (line 6)) (3.9.2)\n",
      "Requirement already satisfied: numpy>=1.23.5 in c:\\users\\pmls\\anaconda3\\envs\\project\\lib\\site-packages (from -r requirements.txt (line 7)) (1.26.4)\n",
      "Requirement already satisfied: opencv-python>=4.1.1 in c:\\users\\pmls\\anaconda3\\envs\\project\\lib\\site-packages (from -r requirements.txt (line 8)) (4.10.0.84)\n",
      "Requirement already satisfied: pillow>=10.3.0 in c:\\users\\pmls\\anaconda3\\envs\\project\\lib\\site-packages (from -r requirements.txt (line 9)) (10.4.0)\n",
      "Requirement already satisfied: psutil in c:\\users\\pmls\\anaconda3\\envs\\project\\lib\\site-packages (from -r requirements.txt (line 10)) (5.9.0)\n",
      "Requirement already satisfied: PyYAML>=5.3.1 in c:\\users\\pmls\\anaconda3\\envs\\project\\lib\\site-packages (from -r requirements.txt (line 11)) (6.0.2)\n",
      "Requirement already satisfied: requests>=2.32.0 in c:\\users\\pmls\\anaconda3\\envs\\project\\lib\\site-packages (from -r requirements.txt (line 12)) (2.32.3)\n",
      "Requirement already satisfied: scipy>=1.4.1 in c:\\users\\pmls\\anaconda3\\envs\\project\\lib\\site-packages (from -r requirements.txt (line 13)) (1.14.0)\n",
      "Requirement already satisfied: thop>=0.1.1 in c:\\users\\pmls\\anaconda3\\envs\\project\\lib\\site-packages (from -r requirements.txt (line 14)) (0.1.1.post2209072238)\n",
      "Requirement already satisfied: torch>=1.8.0 in c:\\users\\pmls\\anaconda3\\envs\\project\\lib\\site-packages (from -r requirements.txt (line 15)) (2.4.0)\n",
      "Requirement already satisfied: torchvision>=0.9.0 in c:\\users\\pmls\\anaconda3\\envs\\project\\lib\\site-packages (from -r requirements.txt (line 16)) (0.19.0)\n",
      "Requirement already satisfied: tqdm>=4.64.0 in c:\\users\\pmls\\anaconda3\\envs\\project\\lib\\site-packages (from -r requirements.txt (line 17)) (4.66.5)\n",
      "Requirement already satisfied: ultralytics>=8.2.34 in c:\\users\\pmls\\anaconda3\\envs\\project\\lib\\site-packages (from -r requirements.txt (line 18)) (8.2.78)\n",
      "Requirement already satisfied: pandas>=1.1.4 in c:\\users\\pmls\\anaconda3\\envs\\project\\lib\\site-packages (from -r requirements.txt (line 27)) (2.2.2)\n",
      "Requirement already satisfied: seaborn>=0.11.0 in c:\\users\\pmls\\anaconda3\\envs\\project\\lib\\site-packages (from -r requirements.txt (line 28)) (0.13.2)\n",
      "Requirement already satisfied: setuptools>=70.0.0 in c:\\users\\pmls\\anaconda3\\envs\\project\\lib\\site-packages (from -r requirements.txt (line 42)) (72.1.0)\n",
      "Requirement already satisfied: gitdb<5,>=4.0.1 in c:\\users\\pmls\\anaconda3\\envs\\project\\lib\\site-packages (from gitpython>=3.1.30->-r requirements.txt (line 5)) (4.0.11)\n",
      "Requirement already satisfied: contourpy>=1.0.1 in c:\\users\\pmls\\anaconda3\\envs\\project\\lib\\site-packages (from matplotlib>=3.3->-r requirements.txt (line 6)) (1.2.1)\n",
      "Requirement already satisfied: cycler>=0.10 in c:\\users\\pmls\\anaconda3\\envs\\project\\lib\\site-packages (from matplotlib>=3.3->-r requirements.txt (line 6)) (0.12.1)\n",
      "Requirement already satisfied: fonttools>=4.22.0 in c:\\users\\pmls\\anaconda3\\envs\\project\\lib\\site-packages (from matplotlib>=3.3->-r requirements.txt (line 6)) (4.53.1)\n",
      "Requirement already satisfied: kiwisolver>=1.3.1 in c:\\users\\pmls\\anaconda3\\envs\\project\\lib\\site-packages (from matplotlib>=3.3->-r requirements.txt (line 6)) (1.4.5)\n",
      "Requirement already satisfied: packaging>=20.0 in c:\\users\\pmls\\anaconda3\\envs\\project\\lib\\site-packages (from matplotlib>=3.3->-r requirements.txt (line 6)) (24.1)\n",
      "Requirement already satisfied: pyparsing>=2.3.1 in c:\\users\\pmls\\anaconda3\\envs\\project\\lib\\site-packages (from matplotlib>=3.3->-r requirements.txt (line 6)) (3.1.2)\n",
      "Requirement already satisfied: python-dateutil>=2.7 in c:\\users\\pmls\\anaconda3\\envs\\project\\lib\\site-packages (from matplotlib>=3.3->-r requirements.txt (line 6)) (2.9.0)\n",
      "Requirement already satisfied: charset-normalizer<4,>=2 in c:\\users\\pmls\\anaconda3\\envs\\project\\lib\\site-packages (from requests>=2.32.0->-r requirements.txt (line 12)) (3.3.2)\n",
      "Requirement already satisfied: idna<4,>=2.5 in c:\\users\\pmls\\anaconda3\\envs\\project\\lib\\site-packages (from requests>=2.32.0->-r requirements.txt (line 12)) (3.7)\n",
      "Requirement already satisfied: urllib3<3,>=1.21.1 in c:\\users\\pmls\\anaconda3\\envs\\project\\lib\\site-packages (from requests>=2.32.0->-r requirements.txt (line 12)) (2.2.2)\n",
      "Requirement already satisfied: certifi>=2017.4.17 in c:\\users\\pmls\\anaconda3\\envs\\project\\lib\\site-packages (from requests>=2.32.0->-r requirements.txt (line 12)) (2024.7.4)\n",
      "Requirement already satisfied: filelock in c:\\users\\pmls\\anaconda3\\envs\\project\\lib\\site-packages (from torch>=1.8.0->-r requirements.txt (line 15)) (3.15.4)\n",
      "Requirement already satisfied: typing-extensions>=4.8.0 in c:\\users\\pmls\\anaconda3\\envs\\project\\lib\\site-packages (from torch>=1.8.0->-r requirements.txt (line 15)) (4.12.2)\n",
      "Requirement already satisfied: sympy in c:\\users\\pmls\\anaconda3\\envs\\project\\lib\\site-packages (from torch>=1.8.0->-r requirements.txt (line 15)) (1.13.2)\n",
      "Requirement already satisfied: networkx in c:\\users\\pmls\\anaconda3\\envs\\project\\lib\\site-packages (from torch>=1.8.0->-r requirements.txt (line 15)) (3.3)\n",
      "Requirement already satisfied: jinja2 in c:\\users\\pmls\\anaconda3\\envs\\project\\lib\\site-packages (from torch>=1.8.0->-r requirements.txt (line 15)) (3.1.4)\n",
      "Requirement already satisfied: fsspec in c:\\users\\pmls\\anaconda3\\envs\\project\\lib\\site-packages (from torch>=1.8.0->-r requirements.txt (line 15)) (2024.6.1)\n",
      "Requirement already satisfied: colorama in c:\\users\\pmls\\anaconda3\\envs\\project\\lib\\site-packages (from tqdm>=4.64.0->-r requirements.txt (line 17)) (0.4.6)\n",
      "Requirement already satisfied: py-cpuinfo in c:\\users\\pmls\\anaconda3\\envs\\project\\lib\\site-packages (from ultralytics>=8.2.34->-r requirements.txt (line 18)) (9.0.0)\n",
      "Requirement already satisfied: ultralytics-thop>=2.0.0 in c:\\users\\pmls\\anaconda3\\envs\\project\\lib\\site-packages (from ultralytics>=8.2.34->-r requirements.txt (line 18)) (2.0.0)\n",
      "Requirement already satisfied: pytz>=2020.1 in c:\\users\\pmls\\anaconda3\\envs\\project\\lib\\site-packages (from pandas>=1.1.4->-r requirements.txt (line 27)) (2024.1)\n",
      "Requirement already satisfied: tzdata>=2022.7 in c:\\users\\pmls\\anaconda3\\envs\\project\\lib\\site-packages (from pandas>=1.1.4->-r requirements.txt (line 27)) (2024.1)\n",
      "Requirement already satisfied: smmap<6,>=3.0.1 in c:\\users\\pmls\\anaconda3\\envs\\project\\lib\\site-packages (from gitdb<5,>=4.0.1->gitpython>=3.1.30->-r requirements.txt (line 5)) (5.0.1)\n",
      "Requirement already satisfied: six>=1.5 in c:\\users\\pmls\\anaconda3\\envs\\project\\lib\\site-packages (from python-dateutil>=2.7->matplotlib>=3.3->-r requirements.txt (line 6)) (1.16.0)\n",
      "Requirement already satisfied: MarkupSafe>=2.0 in c:\\users\\pmls\\anaconda3\\envs\\project\\lib\\site-packages (from jinja2->torch>=1.8.0->-r requirements.txt (line 15)) (2.1.5)\n",
      "Requirement already satisfied: mpmath<1.4,>=1.1.0 in c:\\users\\pmls\\anaconda3\\envs\\project\\lib\\site-packages (from sympy->torch>=1.8.0->-r requirements.txt (line 15)) (1.3.0)\n"
     ]
    }
   ],
   "source": [
    "!cd yolov5 & pip install -r requirements.txt "
   ]
  },
  {
   "cell_type": "markdown",
   "id": "df46bf85",
   "metadata": {},
   "source": [
    "# import libraries"
   ]
  },
  {
   "cell_type": "code",
   "execution_count": 66,
   "id": "ad77450e-c8c8-42ad-aeff-555177e1ba96",
   "metadata": {},
   "outputs": [],
   "source": [
    "import torch\n",
    "from matplotlib import pyplot as plt\n",
    "import torchvision.transforms as T\n",
    "import numpy as np\n",
    "import cv2\n",
    "from PIL import Image\n"
   ]
  },
  {
   "cell_type": "markdown",
   "id": "e8e3beda-e6b0-48a5-9470-a4340a074ddf",
   "metadata": {},
   "source": [
    "# 2- Load Yolo5 Model"
   ]
  },
  {
   "cell_type": "code",
   "execution_count": 67,
   "id": "8203933f-be50-4a6b-990f-e9f3fc38a3b1",
   "metadata": {},
   "outputs": [
    {
     "name": "stderr",
     "output_type": "stream",
     "text": [
      "Using cache found in C:\\Users\\PMLS/.cache\\torch\\hub\\ultralytics_yolov5_master\n",
      "YOLOv5  2024-8-18 Python-3.12.4 torch-2.4.0+cpu CPU\n",
      "\n",
      "Fusing layers... \n",
      "YOLOv5s summary: 213 layers, 7225885 parameters, 0 gradients, 16.4 GFLOPs\n",
      "Adding AutoShape... \n"
     ]
    }
   ],
   "source": [
    "model = torch.hub.load('ultralytics/yolov5','yolov5s')"
   ]
  },
  {
   "cell_type": "code",
   "execution_count": 68,
   "id": "b939ef25-41d3-49de-9174-a0943e920634",
   "metadata": {},
   "outputs": [
    {
     "data": {
      "text/plain": [
       "AutoShape(\n",
       "  (model): DetectMultiBackend(\n",
       "    (model): DetectionModel(\n",
       "      (model): Sequential(\n",
       "        (0): Conv(\n",
       "          (conv): Conv2d(3, 32, kernel_size=(6, 6), stride=(2, 2), padding=(2, 2))\n",
       "          (act): SiLU(inplace=True)\n",
       "        )\n",
       "        (1): Conv(\n",
       "          (conv): Conv2d(32, 64, kernel_size=(3, 3), stride=(2, 2), padding=(1, 1))\n",
       "          (act): SiLU(inplace=True)\n",
       "        )\n",
       "        (2): C3(\n",
       "          (cv1): Conv(\n",
       "            (conv): Conv2d(64, 32, kernel_size=(1, 1), stride=(1, 1))\n",
       "            (act): SiLU(inplace=True)\n",
       "          )\n",
       "          (cv2): Conv(\n",
       "            (conv): Conv2d(64, 32, kernel_size=(1, 1), stride=(1, 1))\n",
       "            (act): SiLU(inplace=True)\n",
       "          )\n",
       "          (cv3): Conv(\n",
       "            (conv): Conv2d(64, 64, kernel_size=(1, 1), stride=(1, 1))\n",
       "            (act): SiLU(inplace=True)\n",
       "          )\n",
       "          (m): Sequential(\n",
       "            (0): Bottleneck(\n",
       "              (cv1): Conv(\n",
       "                (conv): Conv2d(32, 32, kernel_size=(1, 1), stride=(1, 1))\n",
       "                (act): SiLU(inplace=True)\n",
       "              )\n",
       "              (cv2): Conv(\n",
       "                (conv): Conv2d(32, 32, kernel_size=(3, 3), stride=(1, 1), padding=(1, 1))\n",
       "                (act): SiLU(inplace=True)\n",
       "              )\n",
       "            )\n",
       "          )\n",
       "        )\n",
       "        (3): Conv(\n",
       "          (conv): Conv2d(64, 128, kernel_size=(3, 3), stride=(2, 2), padding=(1, 1))\n",
       "          (act): SiLU(inplace=True)\n",
       "        )\n",
       "        (4): C3(\n",
       "          (cv1): Conv(\n",
       "            (conv): Conv2d(128, 64, kernel_size=(1, 1), stride=(1, 1))\n",
       "            (act): SiLU(inplace=True)\n",
       "          )\n",
       "          (cv2): Conv(\n",
       "            (conv): Conv2d(128, 64, kernel_size=(1, 1), stride=(1, 1))\n",
       "            (act): SiLU(inplace=True)\n",
       "          )\n",
       "          (cv3): Conv(\n",
       "            (conv): Conv2d(128, 128, kernel_size=(1, 1), stride=(1, 1))\n",
       "            (act): SiLU(inplace=True)\n",
       "          )\n",
       "          (m): Sequential(\n",
       "            (0): Bottleneck(\n",
       "              (cv1): Conv(\n",
       "                (conv): Conv2d(64, 64, kernel_size=(1, 1), stride=(1, 1))\n",
       "                (act): SiLU(inplace=True)\n",
       "              )\n",
       "              (cv2): Conv(\n",
       "                (conv): Conv2d(64, 64, kernel_size=(3, 3), stride=(1, 1), padding=(1, 1))\n",
       "                (act): SiLU(inplace=True)\n",
       "              )\n",
       "            )\n",
       "            (1): Bottleneck(\n",
       "              (cv1): Conv(\n",
       "                (conv): Conv2d(64, 64, kernel_size=(1, 1), stride=(1, 1))\n",
       "                (act): SiLU(inplace=True)\n",
       "              )\n",
       "              (cv2): Conv(\n",
       "                (conv): Conv2d(64, 64, kernel_size=(3, 3), stride=(1, 1), padding=(1, 1))\n",
       "                (act): SiLU(inplace=True)\n",
       "              )\n",
       "            )\n",
       "          )\n",
       "        )\n",
       "        (5): Conv(\n",
       "          (conv): Conv2d(128, 256, kernel_size=(3, 3), stride=(2, 2), padding=(1, 1))\n",
       "          (act): SiLU(inplace=True)\n",
       "        )\n",
       "        (6): C3(\n",
       "          (cv1): Conv(\n",
       "            (conv): Conv2d(256, 128, kernel_size=(1, 1), stride=(1, 1))\n",
       "            (act): SiLU(inplace=True)\n",
       "          )\n",
       "          (cv2): Conv(\n",
       "            (conv): Conv2d(256, 128, kernel_size=(1, 1), stride=(1, 1))\n",
       "            (act): SiLU(inplace=True)\n",
       "          )\n",
       "          (cv3): Conv(\n",
       "            (conv): Conv2d(256, 256, kernel_size=(1, 1), stride=(1, 1))\n",
       "            (act): SiLU(inplace=True)\n",
       "          )\n",
       "          (m): Sequential(\n",
       "            (0): Bottleneck(\n",
       "              (cv1): Conv(\n",
       "                (conv): Conv2d(128, 128, kernel_size=(1, 1), stride=(1, 1))\n",
       "                (act): SiLU(inplace=True)\n",
       "              )\n",
       "              (cv2): Conv(\n",
       "                (conv): Conv2d(128, 128, kernel_size=(3, 3), stride=(1, 1), padding=(1, 1))\n",
       "                (act): SiLU(inplace=True)\n",
       "              )\n",
       "            )\n",
       "            (1): Bottleneck(\n",
       "              (cv1): Conv(\n",
       "                (conv): Conv2d(128, 128, kernel_size=(1, 1), stride=(1, 1))\n",
       "                (act): SiLU(inplace=True)\n",
       "              )\n",
       "              (cv2): Conv(\n",
       "                (conv): Conv2d(128, 128, kernel_size=(3, 3), stride=(1, 1), padding=(1, 1))\n",
       "                (act): SiLU(inplace=True)\n",
       "              )\n",
       "            )\n",
       "            (2): Bottleneck(\n",
       "              (cv1): Conv(\n",
       "                (conv): Conv2d(128, 128, kernel_size=(1, 1), stride=(1, 1))\n",
       "                (act): SiLU(inplace=True)\n",
       "              )\n",
       "              (cv2): Conv(\n",
       "                (conv): Conv2d(128, 128, kernel_size=(3, 3), stride=(1, 1), padding=(1, 1))\n",
       "                (act): SiLU(inplace=True)\n",
       "              )\n",
       "            )\n",
       "          )\n",
       "        )\n",
       "        (7): Conv(\n",
       "          (conv): Conv2d(256, 512, kernel_size=(3, 3), stride=(2, 2), padding=(1, 1))\n",
       "          (act): SiLU(inplace=True)\n",
       "        )\n",
       "        (8): C3(\n",
       "          (cv1): Conv(\n",
       "            (conv): Conv2d(512, 256, kernel_size=(1, 1), stride=(1, 1))\n",
       "            (act): SiLU(inplace=True)\n",
       "          )\n",
       "          (cv2): Conv(\n",
       "            (conv): Conv2d(512, 256, kernel_size=(1, 1), stride=(1, 1))\n",
       "            (act): SiLU(inplace=True)\n",
       "          )\n",
       "          (cv3): Conv(\n",
       "            (conv): Conv2d(512, 512, kernel_size=(1, 1), stride=(1, 1))\n",
       "            (act): SiLU(inplace=True)\n",
       "          )\n",
       "          (m): Sequential(\n",
       "            (0): Bottleneck(\n",
       "              (cv1): Conv(\n",
       "                (conv): Conv2d(256, 256, kernel_size=(1, 1), stride=(1, 1))\n",
       "                (act): SiLU(inplace=True)\n",
       "              )\n",
       "              (cv2): Conv(\n",
       "                (conv): Conv2d(256, 256, kernel_size=(3, 3), stride=(1, 1), padding=(1, 1))\n",
       "                (act): SiLU(inplace=True)\n",
       "              )\n",
       "            )\n",
       "          )\n",
       "        )\n",
       "        (9): SPPF(\n",
       "          (cv1): Conv(\n",
       "            (conv): Conv2d(512, 256, kernel_size=(1, 1), stride=(1, 1))\n",
       "            (act): SiLU(inplace=True)\n",
       "          )\n",
       "          (cv2): Conv(\n",
       "            (conv): Conv2d(1024, 512, kernel_size=(1, 1), stride=(1, 1))\n",
       "            (act): SiLU(inplace=True)\n",
       "          )\n",
       "          (m): MaxPool2d(kernel_size=5, stride=1, padding=2, dilation=1, ceil_mode=False)\n",
       "        )\n",
       "        (10): Conv(\n",
       "          (conv): Conv2d(512, 256, kernel_size=(1, 1), stride=(1, 1))\n",
       "          (act): SiLU(inplace=True)\n",
       "        )\n",
       "        (11): Upsample(scale_factor=2.0, mode='nearest')\n",
       "        (12): Concat()\n",
       "        (13): C3(\n",
       "          (cv1): Conv(\n",
       "            (conv): Conv2d(512, 128, kernel_size=(1, 1), stride=(1, 1))\n",
       "            (act): SiLU(inplace=True)\n",
       "          )\n",
       "          (cv2): Conv(\n",
       "            (conv): Conv2d(512, 128, kernel_size=(1, 1), stride=(1, 1))\n",
       "            (act): SiLU(inplace=True)\n",
       "          )\n",
       "          (cv3): Conv(\n",
       "            (conv): Conv2d(256, 256, kernel_size=(1, 1), stride=(1, 1))\n",
       "            (act): SiLU(inplace=True)\n",
       "          )\n",
       "          (m): Sequential(\n",
       "            (0): Bottleneck(\n",
       "              (cv1): Conv(\n",
       "                (conv): Conv2d(128, 128, kernel_size=(1, 1), stride=(1, 1))\n",
       "                (act): SiLU(inplace=True)\n",
       "              )\n",
       "              (cv2): Conv(\n",
       "                (conv): Conv2d(128, 128, kernel_size=(3, 3), stride=(1, 1), padding=(1, 1))\n",
       "                (act): SiLU(inplace=True)\n",
       "              )\n",
       "            )\n",
       "          )\n",
       "        )\n",
       "        (14): Conv(\n",
       "          (conv): Conv2d(256, 128, kernel_size=(1, 1), stride=(1, 1))\n",
       "          (act): SiLU(inplace=True)\n",
       "        )\n",
       "        (15): Upsample(scale_factor=2.0, mode='nearest')\n",
       "        (16): Concat()\n",
       "        (17): C3(\n",
       "          (cv1): Conv(\n",
       "            (conv): Conv2d(256, 64, kernel_size=(1, 1), stride=(1, 1))\n",
       "            (act): SiLU(inplace=True)\n",
       "          )\n",
       "          (cv2): Conv(\n",
       "            (conv): Conv2d(256, 64, kernel_size=(1, 1), stride=(1, 1))\n",
       "            (act): SiLU(inplace=True)\n",
       "          )\n",
       "          (cv3): Conv(\n",
       "            (conv): Conv2d(128, 128, kernel_size=(1, 1), stride=(1, 1))\n",
       "            (act): SiLU(inplace=True)\n",
       "          )\n",
       "          (m): Sequential(\n",
       "            (0): Bottleneck(\n",
       "              (cv1): Conv(\n",
       "                (conv): Conv2d(64, 64, kernel_size=(1, 1), stride=(1, 1))\n",
       "                (act): SiLU(inplace=True)\n",
       "              )\n",
       "              (cv2): Conv(\n",
       "                (conv): Conv2d(64, 64, kernel_size=(3, 3), stride=(1, 1), padding=(1, 1))\n",
       "                (act): SiLU(inplace=True)\n",
       "              )\n",
       "            )\n",
       "          )\n",
       "        )\n",
       "        (18): Conv(\n",
       "          (conv): Conv2d(128, 128, kernel_size=(3, 3), stride=(2, 2), padding=(1, 1))\n",
       "          (act): SiLU(inplace=True)\n",
       "        )\n",
       "        (19): Concat()\n",
       "        (20): C3(\n",
       "          (cv1): Conv(\n",
       "            (conv): Conv2d(256, 128, kernel_size=(1, 1), stride=(1, 1))\n",
       "            (act): SiLU(inplace=True)\n",
       "          )\n",
       "          (cv2): Conv(\n",
       "            (conv): Conv2d(256, 128, kernel_size=(1, 1), stride=(1, 1))\n",
       "            (act): SiLU(inplace=True)\n",
       "          )\n",
       "          (cv3): Conv(\n",
       "            (conv): Conv2d(256, 256, kernel_size=(1, 1), stride=(1, 1))\n",
       "            (act): SiLU(inplace=True)\n",
       "          )\n",
       "          (m): Sequential(\n",
       "            (0): Bottleneck(\n",
       "              (cv1): Conv(\n",
       "                (conv): Conv2d(128, 128, kernel_size=(1, 1), stride=(1, 1))\n",
       "                (act): SiLU(inplace=True)\n",
       "              )\n",
       "              (cv2): Conv(\n",
       "                (conv): Conv2d(128, 128, kernel_size=(3, 3), stride=(1, 1), padding=(1, 1))\n",
       "                (act): SiLU(inplace=True)\n",
       "              )\n",
       "            )\n",
       "          )\n",
       "        )\n",
       "        (21): Conv(\n",
       "          (conv): Conv2d(256, 256, kernel_size=(3, 3), stride=(2, 2), padding=(1, 1))\n",
       "          (act): SiLU(inplace=True)\n",
       "        )\n",
       "        (22): Concat()\n",
       "        (23): C3(\n",
       "          (cv1): Conv(\n",
       "            (conv): Conv2d(512, 256, kernel_size=(1, 1), stride=(1, 1))\n",
       "            (act): SiLU(inplace=True)\n",
       "          )\n",
       "          (cv2): Conv(\n",
       "            (conv): Conv2d(512, 256, kernel_size=(1, 1), stride=(1, 1))\n",
       "            (act): SiLU(inplace=True)\n",
       "          )\n",
       "          (cv3): Conv(\n",
       "            (conv): Conv2d(512, 512, kernel_size=(1, 1), stride=(1, 1))\n",
       "            (act): SiLU(inplace=True)\n",
       "          )\n",
       "          (m): Sequential(\n",
       "            (0): Bottleneck(\n",
       "              (cv1): Conv(\n",
       "                (conv): Conv2d(256, 256, kernel_size=(1, 1), stride=(1, 1))\n",
       "                (act): SiLU(inplace=True)\n",
       "              )\n",
       "              (cv2): Conv(\n",
       "                (conv): Conv2d(256, 256, kernel_size=(3, 3), stride=(1, 1), padding=(1, 1))\n",
       "                (act): SiLU(inplace=True)\n",
       "              )\n",
       "            )\n",
       "          )\n",
       "        )\n",
       "        (24): Detect(\n",
       "          (m): ModuleList(\n",
       "            (0): Conv2d(128, 255, kernel_size=(1, 1), stride=(1, 1))\n",
       "            (1): Conv2d(256, 255, kernel_size=(1, 1), stride=(1, 1))\n",
       "            (2): Conv2d(512, 255, kernel_size=(1, 1), stride=(1, 1))\n",
       "          )\n",
       "        )\n",
       "      )\n",
       "    )\n",
       "  )\n",
       ")"
      ]
     },
     "execution_count": 68,
     "metadata": {},
     "output_type": "execute_result"
    }
   ],
   "source": [
    "model"
   ]
  },
  {
   "cell_type": "markdown",
   "id": "b122ae1c",
   "metadata": {},
   "source": [
    "# Importing Monocular Depth Estimation model"
   ]
  },
  {
   "cell_type": "code",
   "execution_count": 69,
   "id": "fbc6b5e6",
   "metadata": {},
   "outputs": [
    {
     "name": "stderr",
     "output_type": "stream",
     "text": [
      "Cloning into 'Depth-Anything-V2'...\n",
      "Filtering content:  40% (2/5)\n",
      "Filtering content:  60% (3/5), 2.08 MiB | 454.00 KiB/s\n",
      "Filtering content:  80% (4/5), 7.17 MiB | 323.00 KiB/s\n",
      "Filtering content: 100% (5/5), 16.43 MiB | 579.00 KiB/s\n",
      "Filtering content: 100% (5/5), 28.66 MiB | 819.00 KiB/s, done.\n"
     ]
    }
   ],
   "source": [
    "!git clone https://huggingface.co/spaces/depth-anything/Depth-Anything-V2"
   ]
  },
  {
   "cell_type": "code",
   "execution_count": 70,
   "id": "dcb97f96",
   "metadata": {},
   "outputs": [
    {
     "name": "stdout",
     "output_type": "stream",
     "text": [
      "Requirement already satisfied: gradio_imageslider in c:\\users\\pmls\\anaconda3\\envs\\project\\lib\\site-packages (from -r requirements.txt (line 1)) (0.0.20)\n",
      "Requirement already satisfied: gradio==4.36.0 in c:\\users\\pmls\\anaconda3\\envs\\project\\lib\\site-packages (from -r requirements.txt (line 2)) (4.36.0)\n",
      "Requirement already satisfied: torch in c:\\users\\pmls\\anaconda3\\envs\\project\\lib\\site-packages (from -r requirements.txt (line 3)) (2.4.0)\n",
      "Requirement already satisfied: torchvision in c:\\users\\pmls\\anaconda3\\envs\\project\\lib\\site-packages (from -r requirements.txt (line 4)) (0.19.0)\n",
      "Requirement already satisfied: opencv-python in c:\\users\\pmls\\anaconda3\\envs\\project\\lib\\site-packages (from -r requirements.txt (line 5)) (4.10.0.84)\n",
      "Requirement already satisfied: matplotlib in c:\\users\\pmls\\anaconda3\\envs\\project\\lib\\site-packages (from -r requirements.txt (line 6)) (3.9.2)\n",
      "Requirement already satisfied: huggingface_hub in c:\\users\\pmls\\anaconda3\\envs\\project\\lib\\site-packages (from -r requirements.txt (line 7)) (0.24.5)\n",
      "Requirement already satisfied: aiofiles<24.0,>=22.0 in c:\\users\\pmls\\anaconda3\\envs\\project\\lib\\site-packages (from gradio==4.36.0->-r requirements.txt (line 2)) (23.2.1)\n",
      "Requirement already satisfied: altair<6.0,>=4.2.0 in c:\\users\\pmls\\anaconda3\\envs\\project\\lib\\site-packages (from gradio==4.36.0->-r requirements.txt (line 2)) (5.4.1)\n",
      "Requirement already satisfied: fastapi in c:\\users\\pmls\\anaconda3\\envs\\project\\lib\\site-packages (from gradio==4.36.0->-r requirements.txt (line 2)) (0.112.1)\n",
      "Requirement already satisfied: ffmpy in c:\\users\\pmls\\anaconda3\\envs\\project\\lib\\site-packages (from gradio==4.36.0->-r requirements.txt (line 2)) (0.4.0)\n",
      "Requirement already satisfied: gradio-client==1.0.1 in c:\\users\\pmls\\anaconda3\\envs\\project\\lib\\site-packages (from gradio==4.36.0->-r requirements.txt (line 2)) (1.0.1)\n",
      "Requirement already satisfied: httpx>=0.24.1 in c:\\users\\pmls\\anaconda3\\envs\\project\\lib\\site-packages (from gradio==4.36.0->-r requirements.txt (line 2)) (0.27.0)\n",
      "Requirement already satisfied: importlib-resources<7.0,>=1.3 in c:\\users\\pmls\\anaconda3\\envs\\project\\lib\\site-packages (from gradio==4.36.0->-r requirements.txt (line 2)) (6.4.3)\n",
      "Requirement already satisfied: jinja2<4.0 in c:\\users\\pmls\\anaconda3\\envs\\project\\lib\\site-packages (from gradio==4.36.0->-r requirements.txt (line 2)) (3.1.4)\n",
      "Requirement already satisfied: markupsafe~=2.0 in c:\\users\\pmls\\anaconda3\\envs\\project\\lib\\site-packages (from gradio==4.36.0->-r requirements.txt (line 2)) (2.1.5)\n",
      "Requirement already satisfied: numpy<3.0,>=1.0 in c:\\users\\pmls\\anaconda3\\envs\\project\\lib\\site-packages (from gradio==4.36.0->-r requirements.txt (line 2)) (1.26.4)\n",
      "Requirement already satisfied: orjson~=3.0 in c:\\users\\pmls\\anaconda3\\envs\\project\\lib\\site-packages (from gradio==4.36.0->-r requirements.txt (line 2)) (3.10.7)\n",
      "Requirement already satisfied: packaging in c:\\users\\pmls\\anaconda3\\envs\\project\\lib\\site-packages (from gradio==4.36.0->-r requirements.txt (line 2)) (24.1)\n",
      "Requirement already satisfied: pandas<3.0,>=1.0 in c:\\users\\pmls\\anaconda3\\envs\\project\\lib\\site-packages (from gradio==4.36.0->-r requirements.txt (line 2)) (2.2.2)\n",
      "Requirement already satisfied: pillow<11.0,>=8.0 in c:\\users\\pmls\\anaconda3\\envs\\project\\lib\\site-packages (from gradio==4.36.0->-r requirements.txt (line 2)) (10.4.0)\n",
      "Requirement already satisfied: pydantic>=2.0 in c:\\users\\pmls\\anaconda3\\envs\\project\\lib\\site-packages (from gradio==4.36.0->-r requirements.txt (line 2)) (2.8.2)\n",
      "Requirement already satisfied: pydub in c:\\users\\pmls\\anaconda3\\envs\\project\\lib\\site-packages (from gradio==4.36.0->-r requirements.txt (line 2)) (0.25.1)\n",
      "Requirement already satisfied: python-multipart>=0.0.9 in c:\\users\\pmls\\anaconda3\\envs\\project\\lib\\site-packages (from gradio==4.36.0->-r requirements.txt (line 2)) (0.0.9)\n",
      "Requirement already satisfied: pyyaml<7.0,>=5.0 in c:\\users\\pmls\\anaconda3\\envs\\project\\lib\\site-packages (from gradio==4.36.0->-r requirements.txt (line 2)) (6.0.2)\n",
      "Requirement already satisfied: ruff>=0.2.2 in c:\\users\\pmls\\anaconda3\\envs\\project\\lib\\site-packages (from gradio==4.36.0->-r requirements.txt (line 2)) (0.6.1)\n",
      "Requirement already satisfied: semantic-version~=2.0 in c:\\users\\pmls\\anaconda3\\envs\\project\\lib\\site-packages (from gradio==4.36.0->-r requirements.txt (line 2)) (2.10.0)\n",
      "Requirement already satisfied: tomlkit==0.12.0 in c:\\users\\pmls\\anaconda3\\envs\\project\\lib\\site-packages (from gradio==4.36.0->-r requirements.txt (line 2)) (0.12.0)\n",
      "Requirement already satisfied: typer<1.0,>=0.12 in c:\\users\\pmls\\anaconda3\\envs\\project\\lib\\site-packages (from gradio==4.36.0->-r requirements.txt (line 2)) (0.12.4)\n",
      "Requirement already satisfied: typing-extensions~=4.0 in c:\\users\\pmls\\anaconda3\\envs\\project\\lib\\site-packages (from gradio==4.36.0->-r requirements.txt (line 2)) (4.12.2)\n",
      "Requirement already satisfied: urllib3~=2.0 in c:\\users\\pmls\\anaconda3\\envs\\project\\lib\\site-packages (from gradio==4.36.0->-r requirements.txt (line 2)) (2.2.2)\n",
      "Requirement already satisfied: uvicorn>=0.14.0 in c:\\users\\pmls\\anaconda3\\envs\\project\\lib\\site-packages (from gradio==4.36.0->-r requirements.txt (line 2)) (0.30.6)\n",
      "Requirement already satisfied: fsspec in c:\\users\\pmls\\anaconda3\\envs\\project\\lib\\site-packages (from gradio-client==1.0.1->gradio==4.36.0->-r requirements.txt (line 2)) (2024.6.1)\n",
      "Requirement already satisfied: websockets<12.0,>=10.0 in c:\\users\\pmls\\anaconda3\\envs\\project\\lib\\site-packages (from gradio-client==1.0.1->gradio==4.36.0->-r requirements.txt (line 2)) (11.0.3)\n",
      "Requirement already satisfied: filelock in c:\\users\\pmls\\anaconda3\\envs\\project\\lib\\site-packages (from torch->-r requirements.txt (line 3)) (3.15.4)\n",
      "Requirement already satisfied: sympy in c:\\users\\pmls\\anaconda3\\envs\\project\\lib\\site-packages (from torch->-r requirements.txt (line 3)) (1.13.2)\n",
      "Requirement already satisfied: networkx in c:\\users\\pmls\\anaconda3\\envs\\project\\lib\\site-packages (from torch->-r requirements.txt (line 3)) (3.3)\n",
      "Requirement already satisfied: setuptools in c:\\users\\pmls\\anaconda3\\envs\\project\\lib\\site-packages (from torch->-r requirements.txt (line 3)) (72.1.0)\n",
      "Requirement already satisfied: contourpy>=1.0.1 in c:\\users\\pmls\\anaconda3\\envs\\project\\lib\\site-packages (from matplotlib->-r requirements.txt (line 6)) (1.2.1)\n",
      "Requirement already satisfied: cycler>=0.10 in c:\\users\\pmls\\anaconda3\\envs\\project\\lib\\site-packages (from matplotlib->-r requirements.txt (line 6)) (0.12.1)\n",
      "Requirement already satisfied: fonttools>=4.22.0 in c:\\users\\pmls\\anaconda3\\envs\\project\\lib\\site-packages (from matplotlib->-r requirements.txt (line 6)) (4.53.1)\n",
      "Requirement already satisfied: kiwisolver>=1.3.1 in c:\\users\\pmls\\anaconda3\\envs\\project\\lib\\site-packages (from matplotlib->-r requirements.txt (line 6)) (1.4.5)\n",
      "Requirement already satisfied: pyparsing>=2.3.1 in c:\\users\\pmls\\anaconda3\\envs\\project\\lib\\site-packages (from matplotlib->-r requirements.txt (line 6)) (3.1.2)\n",
      "Requirement already satisfied: python-dateutil>=2.7 in c:\\users\\pmls\\anaconda3\\envs\\project\\lib\\site-packages (from matplotlib->-r requirements.txt (line 6)) (2.9.0)\n",
      "Requirement already satisfied: requests in c:\\users\\pmls\\anaconda3\\envs\\project\\lib\\site-packages (from huggingface_hub->-r requirements.txt (line 7)) (2.32.3)\n",
      "Requirement already satisfied: tqdm>=4.42.1 in c:\\users\\pmls\\anaconda3\\envs\\project\\lib\\site-packages (from huggingface_hub->-r requirements.txt (line 7)) (4.66.5)\n",
      "Requirement already satisfied: jsonschema>=3.0 in c:\\users\\pmls\\anaconda3\\envs\\project\\lib\\site-packages (from altair<6.0,>=4.2.0->gradio==4.36.0->-r requirements.txt (line 2)) (4.23.0)\n",
      "Requirement already satisfied: narwhals>=1.5.2 in c:\\users\\pmls\\anaconda3\\envs\\project\\lib\\site-packages (from altair<6.0,>=4.2.0->gradio==4.36.0->-r requirements.txt (line 2)) (1.5.5)\n",
      "Requirement already satisfied: anyio in c:\\users\\pmls\\anaconda3\\envs\\project\\lib\\site-packages (from httpx>=0.24.1->gradio==4.36.0->-r requirements.txt (line 2)) (4.4.0)\n",
      "Requirement already satisfied: certifi in c:\\users\\pmls\\anaconda3\\envs\\project\\lib\\site-packages (from httpx>=0.24.1->gradio==4.36.0->-r requirements.txt (line 2)) (2024.7.4)\n",
      "Requirement already satisfied: httpcore==1.* in c:\\users\\pmls\\anaconda3\\envs\\project\\lib\\site-packages (from httpx>=0.24.1->gradio==4.36.0->-r requirements.txt (line 2)) (1.0.5)\n",
      "Requirement already satisfied: idna in c:\\users\\pmls\\anaconda3\\envs\\project\\lib\\site-packages (from httpx>=0.24.1->gradio==4.36.0->-r requirements.txt (line 2)) (3.7)\n",
      "Requirement already satisfied: sniffio in c:\\users\\pmls\\anaconda3\\envs\\project\\lib\\site-packages (from httpx>=0.24.1->gradio==4.36.0->-r requirements.txt (line 2)) (1.3.1)\n",
      "Requirement already satisfied: h11<0.15,>=0.13 in c:\\users\\pmls\\anaconda3\\envs\\project\\lib\\site-packages (from httpcore==1.*->httpx>=0.24.1->gradio==4.36.0->-r requirements.txt (line 2)) (0.14.0)\n",
      "Requirement already satisfied: pytz>=2020.1 in c:\\users\\pmls\\anaconda3\\envs\\project\\lib\\site-packages (from pandas<3.0,>=1.0->gradio==4.36.0->-r requirements.txt (line 2)) (2024.1)\n",
      "Requirement already satisfied: tzdata>=2022.7 in c:\\users\\pmls\\anaconda3\\envs\\project\\lib\\site-packages (from pandas<3.0,>=1.0->gradio==4.36.0->-r requirements.txt (line 2)) (2024.1)\n",
      "Requirement already satisfied: annotated-types>=0.4.0 in c:\\users\\pmls\\anaconda3\\envs\\project\\lib\\site-packages (from pydantic>=2.0->gradio==4.36.0->-r requirements.txt (line 2)) (0.7.0)\n",
      "Requirement already satisfied: pydantic-core==2.20.1 in c:\\users\\pmls\\anaconda3\\envs\\project\\lib\\site-packages (from pydantic>=2.0->gradio==4.36.0->-r requirements.txt (line 2)) (2.20.1)\n",
      "Requirement already satisfied: six>=1.5 in c:\\users\\pmls\\anaconda3\\envs\\project\\lib\\site-packages (from python-dateutil>=2.7->matplotlib->-r requirements.txt (line 6)) (1.16.0)\n",
      "Requirement already satisfied: colorama in c:\\users\\pmls\\anaconda3\\envs\\project\\lib\\site-packages (from tqdm>=4.42.1->huggingface_hub->-r requirements.txt (line 7)) (0.4.6)\n",
      "Requirement already satisfied: click>=8.0.0 in c:\\users\\pmls\\anaconda3\\envs\\project\\lib\\site-packages (from typer<1.0,>=0.12->gradio==4.36.0->-r requirements.txt (line 2)) (8.1.7)\n",
      "Requirement already satisfied: shellingham>=1.3.0 in c:\\users\\pmls\\anaconda3\\envs\\project\\lib\\site-packages (from typer<1.0,>=0.12->gradio==4.36.0->-r requirements.txt (line 2)) (1.5.4)\n",
      "Requirement already satisfied: rich>=10.11.0 in c:\\users\\pmls\\anaconda3\\envs\\project\\lib\\site-packages (from typer<1.0,>=0.12->gradio==4.36.0->-r requirements.txt (line 2)) (13.7.1)\n",
      "Requirement already satisfied: starlette<0.39.0,>=0.37.2 in c:\\users\\pmls\\anaconda3\\envs\\project\\lib\\site-packages (from fastapi->gradio==4.36.0->-r requirements.txt (line 2)) (0.38.2)\n",
      "Requirement already satisfied: charset-normalizer<4,>=2 in c:\\users\\pmls\\anaconda3\\envs\\project\\lib\\site-packages (from requests->huggingface_hub->-r requirements.txt (line 7)) (3.3.2)\n",
      "Requirement already satisfied: mpmath<1.4,>=1.1.0 in c:\\users\\pmls\\anaconda3\\envs\\project\\lib\\site-packages (from sympy->torch->-r requirements.txt (line 3)) (1.3.0)\n",
      "Requirement already satisfied: attrs>=22.2.0 in c:\\users\\pmls\\anaconda3\\envs\\project\\lib\\site-packages (from jsonschema>=3.0->altair<6.0,>=4.2.0->gradio==4.36.0->-r requirements.txt (line 2)) (24.2.0)\n",
      "Requirement already satisfied: jsonschema-specifications>=2023.03.6 in c:\\users\\pmls\\anaconda3\\envs\\project\\lib\\site-packages (from jsonschema>=3.0->altair<6.0,>=4.2.0->gradio==4.36.0->-r requirements.txt (line 2)) (2023.12.1)\n",
      "Requirement already satisfied: referencing>=0.28.4 in c:\\users\\pmls\\anaconda3\\envs\\project\\lib\\site-packages (from jsonschema>=3.0->altair<6.0,>=4.2.0->gradio==4.36.0->-r requirements.txt (line 2)) (0.35.1)\n",
      "Requirement already satisfied: rpds-py>=0.7.1 in c:\\users\\pmls\\anaconda3\\envs\\project\\lib\\site-packages (from jsonschema>=3.0->altair<6.0,>=4.2.0->gradio==4.36.0->-r requirements.txt (line 2)) (0.20.0)\n",
      "Requirement already satisfied: markdown-it-py>=2.2.0 in c:\\users\\pmls\\anaconda3\\envs\\project\\lib\\site-packages (from rich>=10.11.0->typer<1.0,>=0.12->gradio==4.36.0->-r requirements.txt (line 2)) (3.0.0)\n",
      "Requirement already satisfied: pygments<3.0.0,>=2.13.0 in c:\\users\\pmls\\anaconda3\\envs\\project\\lib\\site-packages (from rich>=10.11.0->typer<1.0,>=0.12->gradio==4.36.0->-r requirements.txt (line 2)) (2.18.0)\n",
      "Requirement already satisfied: mdurl~=0.1 in c:\\users\\pmls\\anaconda3\\envs\\project\\lib\\site-packages (from markdown-it-py>=2.2.0->rich>=10.11.0->typer<1.0,>=0.12->gradio==4.36.0->-r requirements.txt (line 2)) (0.1.2)\n"
     ]
    }
   ],
   "source": [
    "!cd Depth-Anything-V2 & pip install -r requirements.txt"
   ]
  },
  {
   "cell_type": "markdown",
   "id": "3ad4b168",
   "metadata": {},
   "source": [
    "# Creating depth image"
   ]
  },
  {
   "cell_type": "code",
   "execution_count": 97,
   "id": "4670c082",
   "metadata": {},
   "outputs": [
    {
     "name": "stdout",
     "output_type": "stream",
     "text": [
      "[[     90.129      89.758      89.387 ...      130.14       124.1      118.07]\n",
      " [     90.162      89.895      89.628 ...      131.02      127.65      124.28]\n",
      " [     90.195      90.032      89.869 ...      131.91       131.2       130.5]\n",
      " ...\n",
      " [     247.02      246.96      246.89 ...       350.3      350.26      350.21]\n",
      " [     247.31      247.15         247 ...      350.39      350.64      350.89]\n",
      " [     247.59      247.35      247.11 ...      350.48      351.03      351.57]]\n"
     ]
    }
   ],
   "source": [
    "import cv2\n",
    "import torch\n",
    "\n",
    "from depth_anything_v2.dpt import DepthAnythingV2\n",
    "\n",
    "model_depth_anything = DepthAnythingV2(encoder='vitl', features=256, out_channels=[256, 512, 1024, 1024])\n",
    "model_depth_anything.load_state_dict(torch.load('checkpoints/depth_anything_v2_vitl.pth', map_location='cpu'))\n",
    "model_depth_anything.eval()\n",
    "\n",
    "raw_img = cv2.imread('img2.jpg')\n",
    "depth = model_depth_anything.infer_image(raw_img) # H x W raw depth map\n",
    "print(depth) # (H, W)\n"
   ]
  },
  {
   "cell_type": "markdown",
   "id": "6139cbd4",
   "metadata": {},
   "source": [
    "# Normalize and store depth map"
   ]
  },
  {
   "cell_type": "code",
   "execution_count": 98,
   "id": "4f6e181c",
   "metadata": {},
   "outputs": [
    {
     "data": {
      "text/plain": [
       "True"
      ]
     },
     "execution_count": 98,
     "metadata": {},
     "output_type": "execute_result"
    }
   ],
   "source": [
    "import cv2\n",
    "import torch\n",
    "import torchvision.transforms as T\n",
    "from PIL import Image\n",
    "import numpy as np\n",
    "\n",
    "depth_map = depth.squeeze()\n",
    "\n",
    "# Normalize the depth map for visualization\n",
    "depth_map = cv2.normalize(depth_map, None, 0, 255, norm_type=cv2.NORM_MINMAX, dtype=cv2.CV_8U)\n",
    "cv2.imwrite(\"depth_map2.jpg\", depth_map)\n"
   ]
  },
  {
   "cell_type": "markdown",
   "id": "2c1ff8f5",
   "metadata": {},
   "source": [
    "# Using Yolo on same depth Image to create Boundary "
   ]
  },
  {
   "cell_type": "markdown",
   "id": "25d01c88",
   "metadata": {},
   "source": []
  },
  {
   "cell_type": "code",
   "execution_count": 99,
   "id": "ad76e448",
   "metadata": {},
   "outputs": [
    {
     "name": "stderr",
     "output_type": "stream",
     "text": [
      "C:\\Users\\PMLS/.cache\\torch\\hub\\ultralytics_yolov5_master\\models\\common.py:869: FutureWarning: `torch.cuda.amp.autocast(args...)` is deprecated. Please use `torch.amp.autocast('cuda', args...)` instead.\n",
      "  with amp.autocast(autocast):\n"
     ]
    }
   ],
   "source": [
    "img = cv2.imread(\"img2.jpg\")\n",
    "results = model(img)\n",
    "\n",
    "# Extract bounding boxes, labels, and confidences\n",
    "boxes = results.xyxy[0].numpy()  # bounding boxes\n",
    "labels = results.names  # class labels"
   ]
  },
  {
   "cell_type": "code",
   "execution_count": 100,
   "id": "bd5a3205",
   "metadata": {},
   "outputs": [
    {
     "name": "stdout",
     "output_type": "stream",
     "text": [
      "[[     423.43      475.72      708.04      1019.1     0.28806          67]]\n"
     ]
    }
   ],
   "source": [
    "print(boxes)\n"
   ]
  },
  {
   "cell_type": "markdown",
   "id": "046aa468",
   "metadata": {},
   "source": [
    "# Calculate Height and width of image"
   ]
  },
  {
   "cell_type": "code",
   "execution_count": 101,
   "id": "ba331a19",
   "metadata": {},
   "outputs": [
    {
     "name": "stdout",
     "output_type": "stream",
     "text": [
      "[[     86.275      86.275      86.275 ...      223.53      203.92      188.24]\n",
      " [     86.275      86.275      86.275 ...      227.45      215.69      203.92]\n",
      " [     86.275      86.275      86.275 ...      231.37      227.45      227.45]\n",
      " ...\n",
      " [     635.29      635.29      635.29 ...      996.08      996.08      996.08]\n",
      " [     635.29      635.29      635.29 ...      996.08      996.08        1000]\n",
      " [     635.29      635.29      635.29 ...      996.08        1000        1000]]\n",
      "Object at [     423.43      475.72      708.04      1019.1     0.28806          67] has a width of 424.07 cm, height of 809.45 cm, and an average depth of: 690.20 cm\n"
     ]
    }
   ],
   "source": [
    "# Load depth map\n",
    "depth_map = cv2.imread(\"depth_map2.jpg\", cv2.IMREAD_GRAYSCALE).astype(float)  # Read depth map as grayscale\n",
    "max_depth_cm = 1000\n",
    "depth_map = (depth_map / 255.0) * max_depth_cm\n",
    "print(depth_map)\n",
    "# Assuming a focal length (in pixels)\n",
    "\n",
    "\n",
    "sensor_width_mm = 9.96  # in mm\n",
    "focal_length_mm = 3.85  # in mm\n",
    "image_width_pixels = img.shape[1] \n",
    "# Calculate focal length in pixels\n",
    "focal_length_pixels = (focal_length_mm * image_width_pixels) / sensor_width_mm\n",
    "\n",
    "# Define function to calculate object size\n",
    "def calculate_object_size_in_cm(box, depth_map, focal_length_pixels):\n",
    "    x1, y1, x2, y2 = map(int, box[:4])\n",
    "    \n",
    "    # Ensure coordinates are within image bounds\n",
    "    x1, y1 = max(0, x1), max(0, y1)\n",
    "    x2, y2 = min(depth_map.shape[1], x2), min(depth_map.shape[0], y2)\n",
    "    \n",
    "    # Calculate pixel dimensions\n",
    "    width_pixels = x2 - x1\n",
    "    height_pixels = y2 - y1\n",
    "    \n",
    "    # Calculate depth of object\n",
    "    depth_of_object = np.median(depth_map[y1:y2, x1:x2]) # Depth in centimeters\n",
    "    \n",
    "    # Convert pixel dimensions to real-world dimensions\n",
    "    width_cm = (width_pixels * depth_of_object) / focal_length_pixels\n",
    "    height_cm = (height_pixels * depth_of_object) / focal_length_pixels\n",
    "    \n",
    "    return width_cm, height_cm, depth_of_object\n",
    "\n",
    "# Calculate and print object sizes in centimeters\n",
    "for box in boxes:\n",
    "    width_cm, height_cm, depth_of_object = calculate_object_size_in_cm(box, depth_map, focal_length_pixels)\n",
    "    print(f\"Object at {box} has a width of {width_cm:.2f} cm, height of {height_cm:.2f} cm, and an average depth of: {depth_of_object:.2f} cm\")\n"
   ]
  },
  {
   "cell_type": "markdown",
   "id": "b85a862a",
   "metadata": {},
   "source": [
    "# Draw bounding boxes, width, height, and depth information on the original image"
   ]
  },
  {
   "cell_type": "code",
   "execution_count": 102,
   "id": "55d4e5aa",
   "metadata": {},
   "outputs": [],
   "source": [
    "\n",
    "for box in boxes:\n",
    "    x1, y1, x2, y2,_,_ = map(int, box)\n",
    "    cv2.rectangle(img, (x1, y1), (x2, y2), (0, 255, 0), 2)\n",
    "    width_cm, height_cm, depth_of_object = calculate_object_size_in_cm(box, depth_map, focal_length_pixels)\n",
    "    depth_text = f\"Depth: {depth_of_object:.2f} cm\" if not np.isnan(depth_of_object) else \"Depth: N/A\"\n",
    "    dimension_text = f\"W: {width_cm:.2f} cm, H: {height_cm:.2f} cm\"\n",
    "    cv2.putText(img, depth_text, (x1, y1 - 20), cv2.FONT_HERSHEY_SIMPLEX, 0.5, (0, 255, 0), 2)\n",
    "    cv2.putText(img, dimension_text, (x1, y1 - 40), cv2.FONT_HERSHEY_SIMPLEX, 0.5, (0, 255, 0), 2)\n",
    "\n",
    "# Save and show the output image\n",
    "output_image = Image.fromarray(cv2.cvtColor(img, cv2.COLOR_BGR2RGB))\n",
    "output_image.save(\"output_image_with_real_dimensions2.jpg\")\n",
    "output_image.show()"
   ]
  }
 ],
 "metadata": {
  "kernelspec": {
   "display_name": "Python 3 (ipykernel)",
   "language": "python",
   "name": "python3"
  },
  "language_info": {
   "codemirror_mode": {
    "name": "ipython",
    "version": 3
   },
   "file_extension": ".py",
   "mimetype": "text/x-python",
   "name": "python",
   "nbconvert_exporter": "python",
   "pygments_lexer": "ipython3",
   "version": "3.12.4"
  }
 },
 "nbformat": 4,
 "nbformat_minor": 5
}
